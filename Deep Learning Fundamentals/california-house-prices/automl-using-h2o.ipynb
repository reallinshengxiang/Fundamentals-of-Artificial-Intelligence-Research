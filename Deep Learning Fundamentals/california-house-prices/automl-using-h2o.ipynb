{
 "cells": [
  {
   "cell_type": "code",
   "execution_count": 2,
   "metadata": {},
   "outputs": [],
   "source": [
    "# Using H2o AutoML to predict house prices"
   ]
  },
  {
   "cell_type": "code",
   "execution_count": 3,
   "metadata": {
    "_kg_hide-input": true,
    "execution": {
     "iopub.execute_input": "2023-08-30T09:23:12.793943Z",
     "iopub.status.busy": "2023-08-30T09:23:12.793126Z",
     "iopub.status.idle": "2023-08-30T09:23:12.810546Z",
     "shell.execute_reply": "2023-08-30T09:23:12.809114Z",
     "shell.execute_reply.started": "2023-08-30T09:23:12.793813Z"
    }
   },
   "outputs": [],
   "source": [
    "# This Python 3 environment comes with many helpful analytics libraries installed\n",
    "# It is defined by the kaggle/python Docker image: https://github.com/kaggle/docker-python\n",
    "# For example, here's several helpful packages to load\n",
    "\n",
    "import numpy as np # linear algebra\n",
    "import pandas as pd # data processing, CSV file I/O (e.g. pd.read_csv)\n",
    "\n",
    "# Input data files are available in the read-only \"../input/\" directory\n",
    "# For example, running this (by clicking run or pressing Shift+Enter) will list all files under the input directory\n",
    "\n",
    "import os\n",
    "for dirname, _, filenames in os.walk('/kaggle/input'):\n",
    "    for filename in filenames:\n",
    "        print(os.path.join(dirname, filename))\n",
    "\n",
    "# You can write up to 20GB to the current directory (/kaggle/working/) that gets preserved as output when you create a version using \"Save & Run All\" \n",
    "# You can also write temporary files to /kaggle/temp/, but they won't be saved outside of the current session"
   ]
  },
  {
   "cell_type": "code",
   "execution_count": 4,
   "metadata": {
    "_kg_hide-input": true,
    "execution": {
     "iopub.execute_input": "2023-08-30T09:23:12.813335Z",
     "iopub.status.busy": "2023-08-30T09:23:12.812695Z",
     "iopub.status.idle": "2023-08-30T09:23:19.239729Z",
     "shell.execute_reply": "2023-08-30T09:23:19.238320Z",
     "shell.execute_reply.started": "2023-08-30T09:23:12.813284Z"
    }
   },
   "outputs": [
    {
     "ename": "ModuleNotFoundError",
     "evalue": "No module named 'plotly'",
     "output_type": "error",
     "traceback": [
      "\u001b[1;31m---------------------------------------------------------------------------\u001b[0m",
      "\u001b[1;31mModuleNotFoundError\u001b[0m                       Traceback (most recent call last)",
      "\u001b[1;32m<ipython-input-4-ca868b365bb7>\u001b[0m in \u001b[0;36m<module>\u001b[1;34m()\u001b[0m\n\u001b[1;32m----> 1\u001b[1;33m \u001b[1;32mimport\u001b[0m \u001b[0mplotly\u001b[0m\u001b[1;33m.\u001b[0m\u001b[0mexpress\u001b[0m \u001b[1;32mas\u001b[0m \u001b[0mpx\u001b[0m\u001b[1;33m\u001b[0m\u001b[0m\n\u001b[0m\u001b[0;32m      2\u001b[0m \u001b[1;32mimport\u001b[0m \u001b[0mplotly\u001b[0m\u001b[1;33m.\u001b[0m\u001b[0mgraph_objects\u001b[0m \u001b[1;32mas\u001b[0m \u001b[0mgo\u001b[0m\u001b[1;33m\u001b[0m\u001b[0m\n\u001b[0;32m      3\u001b[0m \u001b[1;32mimport\u001b[0m \u001b[0mplotly\u001b[0m\u001b[1;33m.\u001b[0m\u001b[0mfigure_factory\u001b[0m \u001b[1;32mas\u001b[0m \u001b[0mff\u001b[0m\u001b[1;33m\u001b[0m\u001b[0m\n\u001b[0;32m      4\u001b[0m \u001b[1;32mfrom\u001b[0m \u001b[0mplotly\u001b[0m\u001b[1;33m.\u001b[0m\u001b[0msubplots\u001b[0m \u001b[1;32mimport\u001b[0m \u001b[0mmake_subplots\u001b[0m\u001b[1;33m\u001b[0m\u001b[0m\n\u001b[0;32m      5\u001b[0m \u001b[1;32mimport\u001b[0m \u001b[0mmatplotlib\u001b[0m\u001b[1;33m.\u001b[0m\u001b[0mpyplot\u001b[0m \u001b[1;32mas\u001b[0m \u001b[0mplt\u001b[0m\u001b[1;33m\u001b[0m\u001b[0m\n",
      "\u001b[1;31mModuleNotFoundError\u001b[0m: No module named 'plotly'"
     ]
    }
   ],
   "source": [
    "import plotly.express as px\n",
    "import plotly.graph_objects as go\n",
    "import plotly.figure_factory as ff\n",
    "from plotly.subplots import make_subplots\n",
    "import matplotlib.pyplot as plt\n",
    "\n",
    "from pandas_profiling import ProfileReport\n",
    "import seaborn as sns\n",
    "from sklearn import metrics\n",
    "from scipy import stats\n",
    "\n",
    "from copy import deepcopy\n",
    "\n",
    "import h2o"
   ]
  },
  {
   "cell_type": "markdown",
   "metadata": {},
   "source": [
    "## 1.Data Clean\n",
    "### (1) 导入并观察数据"
   ]
  },
  {
   "cell_type": "code",
   "execution_count": null,
   "metadata": {
    "execution": {
     "iopub.execute_input": "2023-08-30T09:23:19.242745Z",
     "iopub.status.busy": "2023-08-30T09:23:19.242345Z",
     "iopub.status.idle": "2023-08-30T09:23:22.197071Z",
     "shell.execute_reply": "2023-08-30T09:23:22.195626Z",
     "shell.execute_reply.started": "2023-08-30T09:23:19.242708Z"
    }
   },
   "outputs": [],
   "source": [
    "train_df = pd.read_csv('/kaggle/input/california-house-prices/train.csv')\n",
    "test_df = pd.read_csv('/kaggle/input/california-house-prices/test.csv')\n",
    "train_df.shape, test_df.shape"
   ]
  },
  {
   "cell_type": "markdown",
   "metadata": {},
   "source": [
    "- 根据以下散点图，删除离群点"
   ]
  },
  {
   "cell_type": "code",
   "execution_count": null,
   "metadata": {
    "execution": {
     "iopub.execute_input": "2023-08-30T09:23:22.200021Z",
     "iopub.status.busy": "2023-08-30T09:23:22.199348Z",
     "iopub.status.idle": "2023-08-30T09:23:22.242345Z",
     "shell.execute_reply": "2023-08-30T09:23:22.241083Z",
     "shell.execute_reply.started": "2023-08-30T09:23:22.199963Z"
    }
   },
   "outputs": [],
   "source": [
    "train_df=train_df.drop([3674,6055,32867,34876,43398,44091,44633])"
   ]
  },
  {
   "cell_type": "code",
   "execution_count": null,
   "metadata": {
    "execution": {
     "iopub.execute_input": "2023-08-30T09:23:22.244103Z",
     "iopub.status.busy": "2023-08-30T09:23:22.243748Z",
     "iopub.status.idle": "2023-08-30T09:23:23.690448Z",
     "shell.execute_reply": "2023-08-30T09:23:23.688965Z",
     "shell.execute_reply.started": "2023-08-30T09:23:22.244070Z"
    }
   },
   "outputs": [],
   "source": [
    "data = pd.concat([train_df['Sold Price'], train_df['Listed Price']], axis=1)\n",
    "fig = px.scatter(data, x='Listed Price', y='Sold Price')\n",
    "fig.show()"
   ]
  },
  {
   "cell_type": "code",
   "execution_count": null,
   "metadata": {
    "execution": {
     "iopub.execute_input": "2023-08-30T09:23:23.693939Z",
     "iopub.status.busy": "2023-08-30T09:23:23.692215Z",
     "iopub.status.idle": "2023-08-30T09:23:24.324686Z",
     "shell.execute_reply": "2023-08-30T09:23:24.323052Z",
     "shell.execute_reply.started": "2023-08-30T09:23:23.693822Z"
    }
   },
   "outputs": [],
   "source": [
    "data = pd.concat([train_df['Sold Price'], train_df['Tax assessed value']], axis=1)\n",
    "fig = px.scatter(data, x='Tax assessed value', y='Sold Price')\n",
    "fig.show()"
   ]
  },
  {
   "cell_type": "code",
   "execution_count": null,
   "metadata": {
    "execution": {
     "iopub.execute_input": "2023-08-30T09:23:24.327326Z",
     "iopub.status.busy": "2023-08-30T09:23:24.326627Z",
     "iopub.status.idle": "2023-08-30T09:23:24.769330Z",
     "shell.execute_reply": "2023-08-30T09:23:24.767786Z",
     "shell.execute_reply.started": "2023-08-30T09:23:24.327273Z"
    }
   },
   "outputs": [],
   "source": [
    "data = pd.concat([train_df['Sold Price'], train_df['Annual tax amount']], axis=1)\n",
    "fig = px.scatter(data, x='Annual tax amount', y='Sold Price')\n",
    "fig.show()"
   ]
  },
  {
   "cell_type": "code",
   "execution_count": null,
   "metadata": {
    "execution": {
     "iopub.execute_input": "2023-08-30T09:23:24.773818Z",
     "iopub.status.busy": "2023-08-30T09:23:24.773257Z",
     "iopub.status.idle": "2023-08-30T09:23:25.198418Z",
     "shell.execute_reply": "2023-08-30T09:23:25.197112Z",
     "shell.execute_reply.started": "2023-08-30T09:23:24.773755Z"
    }
   },
   "outputs": [],
   "source": [
    "data = pd.concat([train_df['Sold Price'], train_df['Last Sold Price']], axis=1)\n",
    "fig = px.scatter(data, x='Last Sold Price', y='Sold Price')\n",
    "fig.show()"
   ]
  },
  {
   "cell_type": "code",
   "execution_count": null,
   "metadata": {
    "execution": {
     "iopub.execute_input": "2023-08-30T09:23:25.201581Z",
     "iopub.status.busy": "2023-08-30T09:23:25.200934Z",
     "iopub.status.idle": "2023-08-30T09:23:25.405342Z",
     "shell.execute_reply": "2023-08-30T09:23:25.404355Z",
     "shell.execute_reply.started": "2023-08-30T09:23:25.201532Z"
    }
   },
   "outputs": [],
   "source": [
    "# Split features and labels\n",
    "y = train_df['Sold Price'].reset_index(drop=True)\n",
    "train_features = train_df.drop('Sold Price', axis=1)\n",
    "test_features = test_df.copy()\n",
    "\n",
    "features = pd.concat([train_features, test_features]).reset_index(drop=True)\n",
    "features.shape"
   ]
  },
  {
   "cell_type": "markdown",
   "metadata": {},
   "source": [
    "- 初步处理数据  zip列应作为字符串 并对bedroom列作简单处理"
   ]
  },
  {
   "cell_type": "code",
   "execution_count": null,
   "metadata": {
    "execution": {
     "iopub.execute_input": "2023-08-30T09:23:25.407043Z",
     "iopub.status.busy": "2023-08-30T09:23:25.406528Z",
     "iopub.status.idle": "2023-08-30T09:23:25.701529Z",
     "shell.execute_reply": "2023-08-30T09:23:25.700451Z",
     "shell.execute_reply.started": "2023-08-30T09:23:25.407008Z"
    }
   },
   "outputs": [],
   "source": [
    "def proc_bedroom(x):\n",
    "    if not pd.isna(x) and not x.isdigit():\n",
    "        temp = x.split(',')\n",
    "        n = len(x.split(','))\n",
    "        if 'Walk-in Closet' in temp:\n",
    "            n -= 1\n",
    "        return n\n",
    "    else:\n",
    "        return x\n",
    "\n",
    "features['Bedrooms']=features['Bedrooms'].apply(lambda x: proc_bedroom(x))\n",
    "features['Bedrooms'] = pd.to_numeric(features['Bedrooms'])\n",
    "features['Zip'] = features['Zip'].astype('str')"
   ]
  },
  {
   "cell_type": "markdown",
   "metadata": {},
   "source": [
    "- 缺省值填充"
   ]
  },
  {
   "cell_type": "code",
   "execution_count": null,
   "metadata": {
    "execution": {
     "iopub.execute_input": "2023-08-30T09:23:25.703281Z",
     "iopub.status.busy": "2023-08-30T09:23:25.702794Z",
     "iopub.status.idle": "2023-08-30T09:23:26.285886Z",
     "shell.execute_reply": "2023-08-30T09:23:26.284898Z",
     "shell.execute_reply.started": "2023-08-30T09:23:25.703247Z"
    }
   },
   "outputs": [],
   "source": [
    "#missing data\n",
    "total = features.isnull().sum().sort_values(ascending=False)\n",
    "percent = ((features.isnull().sum() / features.isnull().count()) * 100).sort_values(ascending=False)\n",
    "missing_data = pd.concat([total, percent], axis=1, keys=['Total', 'Percent'])\n",
    "missing_data = missing_data.reset_index()\n",
    "missing_data.columns = ['Name', 'Total', 'Percent']\n",
    "missing_data[:10]"
   ]
  },
  {
   "cell_type": "code",
   "execution_count": null,
   "metadata": {
    "execution": {
     "iopub.execute_input": "2023-08-30T09:23:26.288112Z",
     "iopub.status.busy": "2023-08-30T09:23:26.287417Z",
     "iopub.status.idle": "2023-08-30T09:23:26.299694Z",
     "shell.execute_reply": "2023-08-30T09:23:26.298400Z",
     "shell.execute_reply.started": "2023-08-30T09:23:26.288061Z"
    }
   },
   "outputs": [],
   "source": [
    "def handle_missing(features):\n",
    "    zero_fill=['Last Sold Price','Lot','Full bathrooms','Annual tax amount','Tax assessed value','Bathrooms',\n",
    "               'Bedrooms','Total interior livable area','Total spaces','Garage spaces']\n",
    "    none_fill=['Last Sold On','Middle School','Appliances included','Flooring','Laundry features','Cooling features',\n",
    "               'Cooling','Heating features','Heating','Elementary School','High School','Parking features','Parking','Summary']\n",
    "    max_fill=['Middle School Score','Middle School Distance','Elementary School Score','Elementary School Distance',\n",
    "              'High School Score','High School Distance']\n",
    "    mode_fill=['Year built','Region']\n",
    "    for c in zero_fill:\n",
    "        features[c]=features[c].fillna(0)\n",
    "    for c in max_fill:\n",
    "        features[c]=features[c].fillna(features[c].max())\n",
    "    for c in none_fill:\n",
    "        features[c]=features[c].fillna('None')\n",
    "    for c in mode_fill:\n",
    "        features[c]=features[c].fillna(features[c].mode()[0])\n",
    "    return features"
   ]
  },
  {
   "cell_type": "code",
   "execution_count": null,
   "metadata": {
    "execution": {
     "iopub.execute_input": "2023-08-30T09:23:26.302056Z",
     "iopub.status.busy": "2023-08-30T09:23:26.301617Z",
     "iopub.status.idle": "2023-08-30T09:23:26.522384Z",
     "shell.execute_reply": "2023-08-30T09:23:26.521104Z",
     "shell.execute_reply.started": "2023-08-30T09:23:26.302004Z"
    }
   },
   "outputs": [],
   "source": [
    "features = handle_missing(features)\n",
    "features.shape"
   ]
  },
  {
   "cell_type": "markdown",
   "metadata": {},
   "source": [
    "- 数据转换"
   ]
  },
  {
   "cell_type": "code",
   "execution_count": null,
   "metadata": {
    "_kg_hide-input": true,
    "execution": {
     "iopub.execute_input": "2023-08-30T09:23:26.524772Z",
     "iopub.status.busy": "2023-08-30T09:23:26.524260Z",
     "iopub.status.idle": "2023-08-30T09:23:26.537120Z",
     "shell.execute_reply": "2023-08-30T09:23:26.535927Z",
     "shell.execute_reply.started": "2023-08-30T09:23:26.524719Z"
    }
   },
   "outputs": [],
   "source": [
    "# I want to thanks @masumrumi for sharing this amazing plot!\n",
    "def plotting_3_chart(df, feature):\n",
    "    ## Importing seaborn, matplotlab and scipy modules. \n",
    "    import seaborn as sns\n",
    "    import matplotlib.pyplot as plt\n",
    "    import matplotlib.gridspec as gridspec\n",
    "    from scipy import stats\n",
    "    import matplotlib.style as style\n",
    "    style.use('fivethirtyeight')\n",
    "\n",
    "    ## Creating a customized chart. and giving in figsize and everything. \n",
    "    fig = plt.figure(constrained_layout=True, figsize=(12,8))\n",
    "    ## creating a grid of 3 cols and 3 rows. \n",
    "    grid = gridspec.GridSpec(ncols=3, nrows=3, figure=fig)\n",
    "    #gs = fig3.add_gridspec(3, 3)\n",
    "\n",
    "    ## Customizing the histogram grid. \n",
    "    ax1 = fig.add_subplot(grid[0, :2])\n",
    "    ## Set the title. \n",
    "    ax1.set_title('Histogram')\n",
    "    ## plot the histogram. \n",
    "    sns.distplot(df.loc[:,feature], norm_hist=True, ax = ax1)\n",
    "\n",
    "    # customizing the QQ_plot. \n",
    "    ax2 = fig.add_subplot(grid[1, :2])\n",
    "    ## Set the title. \n",
    "    ax2.set_title('QQ_plot')\n",
    "    ## Plotting the QQ_Plot. \n",
    "    stats.probplot(df.loc[:,feature], plot = ax2)\n",
    "\n",
    "    ## Customizing the Box Plot. \n",
    "    ax3 = fig.add_subplot(grid[:, 2])\n",
    "    ## Set title. \n",
    "    ax3.set_title('Box Plot')\n",
    "    ## Plotting the box plot. \n",
    "    sns.boxplot(df.loc[:,feature], orient='v', ax = ax3 );"
   ]
  },
  {
   "cell_type": "code",
   "execution_count": null,
   "metadata": {
    "execution": {
     "iopub.execute_input": "2023-08-30T09:23:26.539662Z",
     "iopub.status.busy": "2023-08-30T09:23:26.538808Z",
     "iopub.status.idle": "2023-08-30T09:23:27.824063Z",
     "shell.execute_reply": "2023-08-30T09:23:27.822673Z",
     "shell.execute_reply.started": "2023-08-30T09:23:26.539599Z"
    }
   },
   "outputs": [],
   "source": [
    "# Fix the target variable\n",
    "y = np.log1p(y)\n",
    "\n",
    "plotting_3_chart(pd.DataFrame(y), 'Sold Price')"
   ]
  },
  {
   "cell_type": "code",
   "execution_count": null,
   "metadata": {
    "execution": {
     "iopub.execute_input": "2023-08-30T09:23:27.826301Z",
     "iopub.status.busy": "2023-08-30T09:23:27.825796Z",
     "iopub.status.idle": "2023-08-30T09:23:27.947588Z",
     "shell.execute_reply": "2023-08-30T09:23:27.946181Z",
     "shell.execute_reply.started": "2023-08-30T09:23:27.826255Z"
    }
   },
   "outputs": [],
   "source": [
    "numerical_columns = features.select_dtypes(include=['int64','float64']).columns\n",
    "\n",
    "skewed_features = features[numerical_columns].apply(lambda x: stats.skew(x)).sort_values(ascending=False)\n",
    "skewness = pd.DataFrame({'Skew value' :skewed_features})\n",
    "skewness.head(20)"
   ]
  },
  {
   "cell_type": "code",
   "execution_count": null,
   "metadata": {
    "execution": {
     "iopub.execute_input": "2023-08-30T09:23:27.949757Z",
     "iopub.status.busy": "2023-08-30T09:23:27.949261Z",
     "iopub.status.idle": "2023-08-30T09:23:27.959395Z",
     "shell.execute_reply": "2023-08-30T09:23:27.957898Z",
     "shell.execute_reply.started": "2023-08-30T09:23:27.949706Z"
    }
   },
   "outputs": [],
   "source": [
    "def fix_skew(features):\n",
    "    \"\"\"\n",
    "    This function takes in a dataframe and return fixed skewed dataframe\n",
    "    \"\"\"\n",
    "    ## Import necessary modules \n",
    "    from scipy.special import boxcox1p\n",
    "    from scipy.stats import boxcox_normmax\n",
    "    \n",
    "    ## Getting all the data that are not of \"object\" type. \n",
    "    numerical_columns = features.select_dtypes(include=['int64','float64']).columns\n",
    "\n",
    "    # Check the skew of all numerical features\n",
    "    skewed_features = features[numerical_columns].apply(lambda x: stats.skew(x)).sort_values(ascending=False)\n",
    "    high_skew = skewed_features[abs(skewed_features) > 0.5]\n",
    "    skewed_features = high_skew.index\n",
    "\n",
    "    # Perform the Box-Cox transformation\n",
    "    for column in skewed_features:\n",
    "        features[column] = boxcox1p(features[column], boxcox_normmax(features[column] + 1))\n",
    "        \n",
    "    return features"
   ]
  },
  {
   "cell_type": "code",
   "execution_count": null,
   "metadata": {
    "execution": {
     "iopub.execute_input": "2023-08-30T09:23:27.961623Z",
     "iopub.status.busy": "2023-08-30T09:23:27.961239Z",
     "iopub.status.idle": "2023-08-30T09:23:34.130414Z",
     "shell.execute_reply": "2023-08-30T09:23:34.128900Z",
     "shell.execute_reply.started": "2023-08-30T09:23:27.961584Z"
    }
   },
   "outputs": [],
   "source": [
    "def reset_zero(x):\n",
    "    return max(x,0)\n",
    "features['Garage spaces']=features['Garage spaces'].apply(lambda x: reset_zero(x))\n",
    "features['Total spaces']=features['Total spaces'].apply(lambda x: reset_zero(x))\n",
    "features = fix_skew(features)\n",
    "features.head()"
   ]
  },
  {
   "cell_type": "markdown",
   "metadata": {},
   "source": [
    "- 将features分离  根据Variable Importances进行挑选"
   ]
  },
  {
   "cell_type": "code",
   "execution_count": null,
   "metadata": {
    "execution": {
     "iopub.execute_input": "2023-08-30T09:23:34.144124Z",
     "iopub.status.busy": "2023-08-30T09:23:34.139428Z",
     "iopub.status.idle": "2023-08-30T09:23:34.161932Z",
     "shell.execute_reply": "2023-08-30T09:23:34.160262Z",
     "shell.execute_reply.started": "2023-08-30T09:23:34.144023Z"
    }
   },
   "outputs": [],
   "source": [
    "x = features.iloc[:len(y), :]\n",
    "x_test = features.iloc[len(y):, :]\n",
    "x.shape, y.shape, x_test.shape"
   ]
  },
  {
   "cell_type": "code",
   "execution_count": null,
   "metadata": {
    "execution": {
     "iopub.execute_input": "2023-08-30T09:23:34.165183Z",
     "iopub.status.busy": "2023-08-30T09:23:34.164514Z",
     "iopub.status.idle": "2023-08-30T09:23:34.224673Z",
     "shell.execute_reply": "2023-08-30T09:23:34.223761Z",
     "shell.execute_reply.started": "2023-08-30T09:23:34.165137Z"
    }
   },
   "outputs": [],
   "source": [
    "selected=['Listed Price','Tax assessed value','Annual tax amount','Listed On','Elementary School Distance','Last Sold On',\n",
    "'Zip','Total interior livable area','Last Sold Price','Lot','Year built','Bathrooms','High School Distance',\n",
    "'Elementary School Score','Full bathrooms','Middle School Distance','Heating features','Bedrooms',\n",
    "'Elementary School','Laundry features','Region','Middle School Score','Type',\n",
    "'Total spaces','High School Score','Parking']\n",
    "\n",
    "x=x[selected]\n",
    "x_test=x_test[selected+['Id']]\n",
    "x.head()"
   ]
  },
  {
   "cell_type": "markdown",
   "metadata": {},
   "source": [
    "## 2.train"
   ]
  },
  {
   "cell_type": "code",
   "execution_count": null,
   "metadata": {
    "execution": {
     "iopub.execute_input": "2023-08-30T09:23:34.226455Z",
     "iopub.status.busy": "2023-08-30T09:23:34.225946Z",
     "iopub.status.idle": "2023-08-30T09:23:54.129574Z",
     "shell.execute_reply": "2023-08-30T09:23:54.128087Z",
     "shell.execute_reply.started": "2023-08-30T09:23:34.226400Z"
    }
   },
   "outputs": [],
   "source": [
    "import h2o\n",
    "\n",
    "h2o.init()\n",
    "hf = h2o.H2OFrame(pd.concat([x, y], axis=1))\n",
    "x_test_hf = h2o.H2OFrame(x_test)"
   ]
  },
  {
   "cell_type": "code",
   "execution_count": null,
   "metadata": {
    "execution": {
     "iopub.execute_input": "2023-08-30T09:23:54.138891Z",
     "iopub.status.busy": "2023-08-30T09:23:54.135916Z",
     "iopub.status.idle": "2023-08-30T09:23:54.146955Z",
     "shell.execute_reply": "2023-08-30T09:23:54.145757Z",
     "shell.execute_reply.started": "2023-08-30T09:23:54.138808Z"
    }
   },
   "outputs": [],
   "source": [
    "predictors = hf.drop('Sold Price').columns\n",
    "response = 'Sold Price'"
   ]
  },
  {
   "cell_type": "code",
   "execution_count": null,
   "metadata": {
    "execution": {
     "iopub.execute_input": "2023-08-30T09:23:54.168208Z",
     "iopub.status.busy": "2023-08-30T09:23:54.155408Z",
     "iopub.status.idle": "2023-08-30T09:23:54.417185Z",
     "shell.execute_reply": "2023-08-30T09:23:54.416015Z",
     "shell.execute_reply.started": "2023-08-30T09:23:54.168125Z"
    }
   },
   "outputs": [],
   "source": [
    "from h2o.automl import H2OAutoML\n",
    "\n",
    "# stopping_metric: Specify the metric to use for early stopping. \n",
    "aml = H2OAutoML(\n",
    "    max_models=50,\n",
    "    include_algos=[\"XGBoost\"],\n",
    "    max_runtime_secs=7200,\n",
    "    stopping_metric='RMSLE',\n",
    "    sort_metric='RMSLE'\n",
    ")"
   ]
  },
  {
   "cell_type": "code",
   "execution_count": null,
   "metadata": {
    "execution": {
     "iopub.execute_input": "2023-08-30T09:23:54.419350Z",
     "iopub.status.busy": "2023-08-30T09:23:54.418912Z"
    }
   },
   "outputs": [],
   "source": [
    "# Train the model\n",
    "aml.train(x=predictors,y=response,training_frame=hf)"
   ]
  },
  {
   "cell_type": "code",
   "execution_count": null,
   "metadata": {},
   "outputs": [],
   "source": [
    "lb = aml.leaderboard; lb"
   ]
  },
  {
   "cell_type": "markdown",
   "metadata": {},
   "source": [
    "## 3.predict"
   ]
  },
  {
   "cell_type": "code",
   "execution_count": null,
   "metadata": {},
   "outputs": [],
   "source": [
    "aml.leader"
   ]
  },
  {
   "cell_type": "markdown",
   "metadata": {},
   "source": [
    "发现过拟合现象比较严重，这里考虑使用前k个模型的输出取均值进行整合\n",
    "\n",
    "Reported on train data.\n",
    "\n",
    "**RMSLE: 0.00745891154333034**\n",
    "\n",
    "Reported on cross-validation data.\n",
    "\n",
    "**RMSLE: 0.013097170958722777**"
   ]
  },
  {
   "cell_type": "code",
   "execution_count": null,
   "metadata": {},
   "outputs": [],
   "source": [
    "submission_results = pd.read_csv(\"/kaggle/input/california-house-prices/sample_submission.csv\")\n",
    "def top_k_avg_predict(k,leaderboard):\n",
    "    lb=leaderboard.as_data_frame()\n",
    "    ans=submission_results.iloc[:, 1]\n",
    "    for i in range(k):\n",
    "        model=lb.loc[i]['model_id']\n",
    "        pred=h2o.get_model(model).predict(x_test_hf)\n",
    "        pred=pred.as_data_frame()\n",
    "        ans+=np.expm1(pred['predict'])/k\n",
    "    return ans\n",
    "\n",
    "submission_results.iloc[:, 1]=top_k_avg_predict(8,aml.leaderboard)\n",
    "submission_results.head()\n",
    "submission_results.to_csv('submission.csv', index=False)"
   ]
  },
  {
   "cell_type": "code",
   "execution_count": null,
   "metadata": {},
   "outputs": [],
   "source": [
    "submission_results.head()"
   ]
  }
 ],
 "metadata": {
  "kernelspec": {
   "display_name": "Python 3",
   "language": "python",
   "name": "python3"
  },
  "language_info": {
   "codemirror_mode": {
    "name": "ipython",
    "version": 3
   },
   "file_extension": ".py",
   "mimetype": "text/x-python",
   "name": "python",
   "nbconvert_exporter": "python",
   "pygments_lexer": "ipython3",
   "version": "3.7.0"
  }
 },
 "nbformat": 4,
 "nbformat_minor": 4
}
